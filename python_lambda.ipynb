{
  "nbformat": 4,
  "nbformat_minor": 0,
  "metadata": {
    "colab": {
      "name": "python_lambda.ipynb",
      "provenance": [],
      "collapsed_sections": [],
      "authorship_tag": "ABX9TyPM81f5UWGOJmpUhEqDPJRE"
    },
    "kernelspec": {
      "name": "python3",
      "display_name": "Python 3"
    },
    "language_info": {
      "name": "python"
    }
  },
  "cells": [
    {
      "cell_type": "code",
      "metadata": {
        "colab": {
          "base_uri": "https://localhost:8080/"
        },
        "id": "n4rgzev9dYAm",
        "outputId": "a93253b0-1d54-4305-c477-bff93b84b26a"
      },
      "source": [
        "# lambda는 단계가 단순하지만, 직관적이지 않아 이해가 함수정의보다 어려움\n",
        "# 함수와 lambda 모두 재사용 가능\n",
        "# 선언부 : 실행부\n",
        "(lambda first, second : first * second + 20)(10, 3)"
      ],
      "execution_count": 12,
      "outputs": [
        {
          "output_type": "execute_result",
          "data": {
            "text/plain": [
              "50"
            ]
          },
          "metadata": {
            "tags": []
          },
          "execution_count": 12
        }
      ]
    },
    {
      "cell_type": "code",
      "metadata": {
        "id": "Fp8_47xxcmNI"
      },
      "source": [
        "# 함수정의는 직관적이지만, 단계가 lambda보다 복잡\n",
        "def plus(first01, second02): \n",
        "  # result = first01 + 20\n",
        "  # return result\n",
        "  return first01 +20    # first01 + 20 -> return"
      ],
      "execution_count": 3,
      "outputs": []
    },
    {
      "cell_type": "code",
      "metadata": {
        "colab": {
          "base_uri": "https://localhost:8080/"
        },
        "id": "PNKE9DKqgKQI",
        "outputId": "4233308e-9a61-4409-cc20-feabfe6049c8"
      },
      "source": [
        "plus(10), type(plus)"
      ],
      "execution_count": 8,
      "outputs": [
        {
          "output_type": "execute_result",
          "data": {
            "text/plain": [
              "(30, function)"
            ]
          },
          "metadata": {
            "tags": []
          },
          "execution_count": 8
        }
      ]
    },
    {
      "cell_type": "code",
      "metadata": {
        "colab": {
          "base_uri": "https://localhost:8080/"
        },
        "id": "vSsw3pvjijqM",
        "outputId": "c4f66334-30e8-4902-a537-3f40e74e0b4a"
      },
      "source": [
        "plus(20)"
      ],
      "execution_count": 9,
      "outputs": [
        {
          "output_type": "execute_result",
          "data": {
            "text/plain": [
              "40"
            ]
          },
          "metadata": {
            "tags": []
          },
          "execution_count": 9
        }
      ]
    },
    {
      "cell_type": "code",
      "metadata": {
        "colab": {
          "base_uri": "https://localhost:8080/"
        },
        "id": "JRqhJWZMgeSX",
        "outputId": "f279ad6a-c14b-4842-a828-7878e6b0fa58"
      },
      "source": [
        "# 괄호() 사용은 자율적이나, 구분하기 쉽게 하기 위하여 삽입 \n",
        "plus_02 = (lambda fisrt : first + 20)\n",
        "type(plus_02)"
      ],
      "execution_count": 10,
      "outputs": [
        {
          "output_type": "execute_result",
          "data": {
            "text/plain": [
              "function"
            ]
          },
          "metadata": {
            "tags": []
          },
          "execution_count": 10
        }
      ]
    },
    {
      "cell_type": "code",
      "metadata": {
        "id": "fRuTsRnIiap3"
      },
      "source": [
        ""
      ],
      "execution_count": null,
      "outputs": []
    }
  ]
}