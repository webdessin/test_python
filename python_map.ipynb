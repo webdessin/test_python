{
  "nbformat": 4,
  "nbformat_minor": 0,
  "metadata": {
    "colab": {
      "name": "python_map.ipynb",
      "provenance": [],
      "collapsed_sections": [],
      "authorship_tag": "ABX9TyOn6HxjiYS/x/awVF9tBqv0"
    },
    "kernelspec": {
      "name": "python3",
      "display_name": "Python 3"
    },
    "language_info": {
      "name": "python"
    }
  },
  "cells": [
    {
      "cell_type": "markdown",
      "metadata": {
        "id": "4jhzqLi1jkAu"
      },
      "source": [
        "Built-in Functions\n",
        "\n",
        "https://docs.python.org/3/library/functions.html\n",
        "\n",
        "https://docs.python.org/3/library/functions.html#map"
      ]
    },
    {
      "cell_type": "code",
      "metadata": {
        "id": "pATj8dLMjg6K"
      },
      "source": [
        "def calSquare(num):\n",
        "  result = num * num\n",
        "  return result"
      ],
      "execution_count": 1,
      "outputs": []
    },
    {
      "cell_type": "code",
      "metadata": {
        "id": "wQoZoyeWlEXx"
      },
      "source": [
        "numbers = (1, 2)"
      ],
      "execution_count": 8,
      "outputs": []
    },
    {
      "cell_type": "code",
      "metadata": {
        "id": "6TJ_R_zrlGnR"
      },
      "source": [
        "#      list   dictionary\n",
        "#        |         |\n",
        "# map(* args, **kwargs)"
      ],
      "execution_count": 4,
      "outputs": []
    },
    {
      "cell_type": "code",
      "metadata": {
        "colab": {
          "base_uri": "https://localhost:8080/"
        },
        "id": "GJ5U0bWUlqZZ",
        "outputId": "ab46858f-01ef-4830-fbab-52ecb9321a73"
      },
      "source": [
        "result = map(calSquare, numbers)\n",
        "print(set(result))"
      ],
      "execution_count": 9,
      "outputs": [
        {
          "output_type": "stream",
          "text": [
            "{1, 4}\n"
          ],
          "name": "stdout"
        }
      ]
    },
    {
      "cell_type": "code",
      "metadata": {
        "colab": {
          "base_uri": "https://localhost:8080/"
        },
        "id": "tEBORgkHmbxR",
        "outputId": "2b6d1cc1-85c7-4af9-9071-38b4ad22c45b"
      },
      "source": [
        "calSquare(1), calSquare(2)"
      ],
      "execution_count": 14,
      "outputs": [
        {
          "output_type": "execute_result",
          "data": {
            "text/plain": [
              "(1, 4)"
            ]
          },
          "metadata": {
            "tags": []
          },
          "execution_count": 14
        }
      ]
    },
    {
      "cell_type": "code",
      "metadata": {
        "colab": {
          "base_uri": "https://localhost:8080/"
        },
        "id": "mnWL56q5p_lz",
        "outputId": "84e5d455-027e-4e83-90f8-4fe9a1b4d032"
      },
      "source": [
        "calplus = (lambda first, second : first + second)\n",
        "type(calplus)"
      ],
      "execution_count": 15,
      "outputs": [
        {
          "output_type": "execute_result",
          "data": {
            "text/plain": [
              "function"
            ]
          },
          "metadata": {
            "tags": []
          },
          "execution_count": 15
        }
      ]
    },
    {
      "cell_type": "code",
      "metadata": {
        "colab": {
          "base_uri": "https://localhost:8080/"
        },
        "id": "6ARzDlDwqbm8",
        "outputId": "c816d257-64aa-4c52-db68-232fb29b7f5a"
      },
      "source": [
        "number01 = [1, 2, 3]\n",
        "number02 = [4, 5, 6]\n",
        "type(number01), type(number02)"
      ],
      "execution_count": 16,
      "outputs": [
        {
          "output_type": "execute_result",
          "data": {
            "text/plain": [
              "(list, list)"
            ]
          },
          "metadata": {
            "tags": []
          },
          "execution_count": 16
        }
      ]
    },
    {
      "cell_type": "code",
      "metadata": {
        "colab": {
          "base_uri": "https://localhost:8080/"
        },
        "id": "JNvIkvsKq1E9",
        "outputId": "d08227aa-1e37-4179-d70a-52cdbdf5ec22"
      },
      "source": [
        "calplus(number01[0], number02[0])"
      ],
      "execution_count": 17,
      "outputs": [
        {
          "output_type": "execute_result",
          "data": {
            "text/plain": [
              "5"
            ]
          },
          "metadata": {
            "tags": []
          },
          "execution_count": 17
        }
      ]
    },
    {
      "cell_type": "code",
      "metadata": {
        "colab": {
          "base_uri": "https://localhost:8080/"
        },
        "id": "CTu6uCmOrF56",
        "outputId": "b0439f64-0039-4c96-e4a7-fe2d6e0e5292"
      },
      "source": [
        "calplus(number01[1], number02[1])"
      ],
      "execution_count": 18,
      "outputs": [
        {
          "output_type": "execute_result",
          "data": {
            "text/plain": [
              "7"
            ]
          },
          "metadata": {
            "tags": []
          },
          "execution_count": 18
        }
      ]
    },
    {
      "cell_type": "code",
      "metadata": {
        "colab": {
          "base_uri": "https://localhost:8080/"
        },
        "id": "ZpHSD3MhrKnq",
        "outputId": "6f7b96bc-6b81-4285-dc2a-03375807d7bc"
      },
      "source": [
        "result = map(calplus, number01, number02)   # 내부적으로 for문이 돌고 있어서 파라미터를 여러 번 반복하지 않아도 됨\n",
        "list(result)"
      ],
      "execution_count": 21,
      "outputs": [
        {
          "output_type": "execute_result",
          "data": {
            "text/plain": [
              "[5, 7, 9]"
            ]
          },
          "metadata": {
            "tags": []
          },
          "execution_count": 21
        }
      ]
    },
    {
      "cell_type": "code",
      "metadata": {
        "id": "xlxJq4nOr8NT"
      },
      "source": [
        ""
      ],
      "execution_count": null,
      "outputs": []
    }
  ]
}